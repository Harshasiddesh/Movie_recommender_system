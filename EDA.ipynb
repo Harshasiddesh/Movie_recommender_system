{
 "cells": [
  {
   "cell_type": "markdown",
   "id": "a8ab167a",
   "metadata": {},
   "source": [
    "## Content Based Movie Recommender System"
   ]
  },
  {
   "cell_type": "markdown",
   "id": "a9153458",
   "metadata": {},
   "source": [
    "#### Life Cycle of Capstone Project\n",
    "\n",
    "- Understanding the Problem Statement\n",
    "- Data Collection\n",
    "- Data Checks to perform\n",
    "- Exploratory data analysis\n",
    "- Data Pre-Processing\n",
    "- Model Training\n",
    "- Choose best model"
   ]
  },
  {
   "cell_type": "markdown",
   "id": "94b59ae3",
   "metadata": {},
   "source": [
    "### 1) Problem statement\n",
    "- This capstone project aims to design an improved content-based movie recommendation system that\n",
    "integrates diverse feature types effectively while ensuring computational efficiency\n",
    "\n",
    "### 2) Data Collection\n",
    "- Data source - https://www.kaggle.com/datasets/andrezaza/clapper-massive-rotten-tomatoes-movies-and-reviews/data\n",
    "- The data consists of two .csv file\n",
    "   >movie dataset (14 Mn rows, 16 column)\n",
    "   \n",
    "   >Review dataset (140 K rows, 11 column)"
   ]
  },
  {
   "cell_type": "markdown",
   "id": "0f1dcfcf",
   "metadata": {},
   "source": [
    "### **2.1 Import data and Required Packages**\n"
   ]
  },
  {
   "cell_type": "code",
   "execution_count": 1,
   "id": "6fa35bb1",
   "metadata": {},
   "outputs": [],
   "source": [
    "import re\n",
    "import pandas as pd\n",
    "import numpy as np\n",
    "import matplotlib.pyplot as plt\n",
    "from sklearn.preprocessing import MultiLabelBinarizer\n",
    "from scipy.sparse import csr_matrix\n",
    "import seaborn as sns\n",
    "from nltk.corpus import stopwords"
   ]
  },
  {
   "cell_type": "markdown",
   "id": "6c420dff",
   "metadata": {},
   "source": [
    "#### Import the csv data as DataFrame"
   ]
  },
  {
   "cell_type": "code",
   "execution_count": null,
   "id": "f4ec314d",
   "metadata": {},
   "outputs": [],
   "source": [
    "movie = pd.read_csv('Data\\movie.csv')"
   ]
  },
  {
   "cell_type": "code",
   "execution_count": 54,
   "id": "39ceb026",
   "metadata": {},
   "outputs": [],
   "source": [
    "review = pd.read_csv('Data\\credits.csv')"
   ]
  },
  {
   "cell_type": "code",
   "execution_count": null,
   "id": "61f767e7",
   "metadata": {},
   "outputs": [],
   "source": [
    "review.head()"
   ]
  },
  {
   "cell_type": "markdown",
   "id": "1054ae6a",
   "metadata": {},
   "source": [
    "#### Show top five records"
   ]
  },
  {
   "cell_type": "code",
   "execution_count": null,
   "id": "5564aa1c",
   "metadata": {},
   "outputs": [],
   "source": [
    "movie.head(5)\n",
    "review.head(5)"
   ]
  },
  {
   "cell_type": "markdown",
   "id": "499a9dab",
   "metadata": {},
   "source": [
    "#### Shape of the dataset"
   ]
  },
  {
   "cell_type": "code",
   "execution_count": 18,
   "id": "18c8e4de",
   "metadata": {},
   "outputs": [
    {
     "data": {
      "text/plain": [
       "(143258, 16)"
      ]
     },
     "execution_count": 18,
     "metadata": {},
     "output_type": "execute_result"
    }
   ],
   "source": [
    "movie.shape"
   ]
  },
  {
   "cell_type": "code",
   "execution_count": 17,
   "id": "e737c09e",
   "metadata": {},
   "outputs": [
    {
     "data": {
      "text/plain": [
       "(1444963, 11)"
      ]
     },
     "execution_count": 17,
     "metadata": {},
     "output_type": "execute_result"
    }
   ],
   "source": [
    "review.shape"
   ]
  },
  {
   "cell_type": "markdown",
   "id": "46656d12",
   "metadata": {},
   "source": [
    "### **2.2 Data Information**\n",
    "\n",
    "> Movie Dataset\n",
    "- **id** : Unique Identifier\n",
    "- **title**: title of the movie\n",
    "- **audienceScore** : Average score of regular viewers\n",
    "- **tomatoMeter**: Percentage of positive reviews from professional critics\n",
    "- **rating**: Age based classification\n",
    "- **ratingContents**: content leading to the rating classification\n",
    "- **releaseDateTheaters**: Release date\n",
    "- **releaseDateStreaming**: Streaming date\n",
    "- **runtimeMinutes**: Duration of movie in minutes\n",
    "- **genre**: Movie genre\n",
    "- **originalLanguage**: Original Language of the movie\n",
    "- **director**: Movie Director\n",
    "- **writer**: Movie writer\n",
    "- **boxOffice**: Box office revenue\n",
    "- **distributor**: Distribution Company\n",
    "- **soundMix**: Audio format\n",
    "\n",
    "> Review Dataset\n",
    "- **id** : Unique Identifier (Matches with Movie Dataset)\n",
    "- **reviewId**: unique identifier for each critic review\n",
    "- **creationDate** : Date the review was created\n",
    "- **criticName**: Name of the critic\n",
    "- **isTopCritic**: Boolean value indicating if the critic is top critic\n",
    "- **originalScore**: critic score\n",
    "- **reviewState**: Status of the review\n",
    "- **publicatioName**: Name of the publication\n",
    "- **reviewText**: Full text of the critic review \n",
    "- **scoreSentiment**: Sentiment of the critic score\n",
    "- **reviewUrl**: The URL of the original review on Rotten Tomatoes\n",
    "\n"
   ]
  },
  {
   "cell_type": "markdown",
   "id": "05cf5673",
   "metadata": {},
   "source": [
    "### **3. Data checks to perform**\n",
    "- check the missing values\n",
    "- check Duplicates\n",
    "- check Data type\n",
    "- check the number of unique values of each column\n",
    "- check statistics of data set\n",
    "- check various categories present in the different categorical column"
   ]
  },
  {
   "cell_type": "markdown",
   "id": "883f599b",
   "metadata": {},
   "source": [
    "#### 3.1 check the missing values\n",
    "> Movie Dataset"
   ]
  },
  {
   "cell_type": "code",
   "execution_count": null,
   "id": "18faeb9d",
   "metadata": {},
   "outputs": [],
   "source": [
    "movie.isna().sum()"
   ]
  },
  {
   "cell_type": "code",
   "execution_count": null,
   "id": "647950fb",
   "metadata": {},
   "outputs": [],
   "source": [
    "print('Percentage of missing values in movie dataset per column:')\n",
    "print((movie.isnull().sum() / len(movie) * 100).round(2))"
   ]
  },
  {
   "cell_type": "markdown",
   "id": "ccd66ab7",
   "metadata": {},
   "source": [
    "- Dropping null values of title and columns with missing percentage > 70%"
   ]
  },
  {
   "cell_type": "code",
   "execution_count": 3,
   "id": "e1104c47",
   "metadata": {},
   "outputs": [],
   "source": [
    "movie['title'] = movie['title'].dropna()\n",
    "drop_columns = ['tomatoMeter','rating','ratingContents','releaseDateTheaters','boxOffice','distributor', 'soundMix']\n",
    "movie = movie.drop(columns=drop_columns)"
   ]
  },
  {
   "cell_type": "markdown",
   "id": "c0e8e3cb",
   "metadata": {},
   "source": [
    "> Review Dataset"
   ]
  },
  {
   "cell_type": "code",
   "execution_count": 12,
   "id": "9d5a6949",
   "metadata": {},
   "outputs": [
    {
     "data": {
      "text/plain": [
       "id                     0\n",
       "reviewId               0\n",
       "creationDate           0\n",
       "isTopCritic            0\n",
       "originalScore     435218\n",
       "reviewText         69225\n",
       "scoreSentiment         0\n",
       "dtype: int64"
      ]
     },
     "execution_count": 12,
     "metadata": {},
     "output_type": "execute_result"
    }
   ],
   "source": [
    "review.isna().sum()"
   ]
  },
  {
   "cell_type": "code",
   "execution_count": 120,
   "id": "fee27297",
   "metadata": {},
   "outputs": [
    {
     "name": "stdout",
     "output_type": "stream",
     "text": [
      "Percentage of missing values in review dataset per column:\n",
      "Title                0.00\n",
      "reviewId             0.00\n",
      "creationDate         0.00\n",
      "isTopCritic          0.00\n",
      "originalScore       30.11\n",
      "reviewText           4.80\n",
      "scoreSentiment       0.00\n",
      "cleaned_text         0.00\n",
      "score               32.59\n",
      "normalizedScore    100.00\n",
      "dtype: float64\n"
     ]
    }
   ],
   "source": [
    "print('Percentage of missing values in review dataset per column:')\n",
    "print((review.isnull().sum() / len(review) * 100).round(2))"
   ]
  },
  {
   "cell_type": "code",
   "execution_count": 14,
   "id": "12b61c91",
   "metadata": {},
   "outputs": [
    {
     "data": {
      "text/plain": [
       "Index(['title', 'reviewId', 'creationDate', 'isTopCritic', 'originalScore',\n",
       "       'reviewText', 'scoreSentiment'],\n",
       "      dtype='object')"
      ]
     },
     "execution_count": 14,
     "metadata": {},
     "output_type": "execute_result"
    }
   ],
   "source": [
    "review.columns"
   ]
  },
  {
   "cell_type": "markdown",
   "id": "a041bd92",
   "metadata": {},
   "source": [
    "### **3.2 Check duplicates**"
   ]
  },
  {
   "cell_type": "code",
   "execution_count": 4,
   "id": "c611434e",
   "metadata": {},
   "outputs": [],
   "source": [
    "movie['id'].duplicated().sum()\n",
    "movie = movie.drop_duplicates(subset=['id'])"
   ]
  },
  {
   "cell_type": "code",
   "execution_count": 36,
   "id": "e3c606c7",
   "metadata": {},
   "outputs": [
    {
     "data": {
      "text/plain": [
       "np.int64(1375700)"
      ]
     },
     "execution_count": 36,
     "metadata": {},
     "output_type": "execute_result"
    }
   ],
   "source": [
    "review['id'].duplicated().sum()"
   ]
  },
  {
   "cell_type": "markdown",
   "id": "611981b1",
   "metadata": {},
   "source": [
    "### **3.3 Check data types**"
   ]
  },
  {
   "cell_type": "code",
   "execution_count": null,
   "id": "c17aa4b7",
   "metadata": {},
   "outputs": [],
   "source": [
    "movie.info()"
   ]
  },
  {
   "cell_type": "code",
   "execution_count": null,
   "id": "387dbeba",
   "metadata": {},
   "outputs": [],
   "source": [
    "review.info()"
   ]
  },
  {
   "cell_type": "markdown",
   "id": "51134633",
   "metadata": {},
   "source": [
    "### **3.4) Check the number of unique columns**"
   ]
  },
  {
   "cell_type": "code",
   "execution_count": null,
   "id": "d073feb9",
   "metadata": {},
   "outputs": [],
   "source": [
    "movie[['genre','originalLanguage','director','writer']].nunique()"
   ]
  },
  {
   "cell_type": "code",
   "execution_count": 7,
   "id": "2e0eef01",
   "metadata": {},
   "outputs": [
    {
     "name": "stdout",
     "output_type": "stream",
     "text": [
      "Number of common movie IDs: 69260\n"
     ]
    }
   ],
   "source": [
    "print('Number of common movie IDs:', len(set(movie['id']).intersection(set(review['id']))))"
   ]
  },
  {
   "cell_type": "markdown",
   "id": "c44515b2",
   "metadata": {},
   "source": [
    "### **Review datset cleaning**\n",
    "> Removing column from review data\n",
    "- ID is replaced with title\n",
    "- criticName: isTopCritic columns provides the details of critc\n",
    "- reviewState,publicatioName,reviewUrl : Not necessary for recommendation"
   ]
  },
  {
   "cell_type": "code",
   "execution_count": 76,
   "id": "13fafe90",
   "metadata": {},
   "outputs": [],
   "source": [
    "review = pd.read_csv('Data\\credits.csv')"
   ]
  },
  {
   "cell_type": "code",
   "execution_count": 77,
   "id": "c5290d3d",
   "metadata": {},
   "outputs": [],
   "source": [
    "review.rename(columns={'id': 'title'},inplace=True)"
   ]
  },
  {
   "cell_type": "markdown",
   "id": "096a3050",
   "metadata": {},
   "source": [
    "#### Cleaning Review dataset\n",
    "> Dropped duplicate values of reviewId"
   ]
  },
  {
   "cell_type": "code",
   "execution_count": 78,
   "id": "57a32052",
   "metadata": {},
   "outputs": [],
   "source": [
    "review = review.drop_duplicates(subset=['reviewId'], keep='first').reset_index(drop=True)"
   ]
  },
  {
   "cell_type": "markdown",
   "id": "c8993928",
   "metadata": {},
   "source": [
    "> removing the stopwords from reviewtext"
   ]
  },
  {
   "cell_type": "code",
   "execution_count": 79,
   "id": "5b9858d0",
   "metadata": {},
   "outputs": [],
   "source": [
    "stop_words = set(stopwords.words('english'))\n",
    "\n",
    "def clean_review(text):\n",
    "    # Convert to lowercase\n",
    "    text = text.lower()\n",
    "    # Remove URLs and HTML tags\n",
    "    text = re.sub(r'http\\S+|www\\S+|<.*?>', '', text)\n",
    "    # Remove special characters and numbers (keep only letters)\n",
    "    text = re.sub(r'[^a-z\\s]', '', text)\n",
    "    # Tokenize and remove stopwords\n",
    "    tokens = text.split()\n",
    "    filtered_tokens = [word for word in tokens if word not in stop_words and len(word) > 2]\n",
    "    # Join back into string\n",
    "    return ' '.join(filtered_tokens)"
   ]
  },
  {
   "cell_type": "markdown",
   "id": "fdf5eea1",
   "metadata": {},
   "source": [
    "- New column cleaned_text after removing the stopwords"
   ]
  },
  {
   "cell_type": "code",
   "execution_count": 80,
   "id": "40448d0f",
   "metadata": {},
   "outputs": [],
   "source": [
    "review['cleaned_text']= review['reviewText'].astype(str).apply(clean_review)"
   ]
  },
  {
   "cell_type": "markdown",
   "id": "b25ef93f",
   "metadata": {},
   "source": [
    "#### Normalizing the original score"
   ]
  },
  {
   "cell_type": "code",
   "execution_count": 81,
   "id": "cf370135",
   "metadata": {},
   "outputs": [],
   "source": [
    "import re\n",
    "import numpy as np\n",
    "\n",
    "def normalize_original_score(score):\n",
    "    if not isinstance(score, str):\n",
    "        return np.nan\n",
    "\n",
    "    score = score.strip().lower().replace(\" \", \"\")\n",
    "\n",
    "    # --- Grade to score mapping ---\n",
    "    grade_map = {\n",
    "        \"a+++\": 10, \"a++\": 10, \"a+\": 10, \"a-\": 6,\n",
    "        \"b++\": 8.5, \"b\": 8, \"b-\":5,\n",
    "        \"c+\": 7, \"c\": 6.5, \"c-\": 4,\n",
    "        \"d+\": 5.5, \"d\": 5, \"d-\": 3,\n",
    "        \"f+\": 4, \"f\": 3, \"f-\": 2,\n",
    "        \"a--\": 4, \"b--\": 3, \"c--\": 2  # Extras from your list\n",
    "    }\n",
    "    if score in grade_map:\n",
    "        return grade_map[score]\n",
    "\n",
    "    # --- Star keywords ---\n",
    "    star_keywords = {\n",
    "        \"fivestars\": 10,\n",
    "        \"fourstars\": 8,\n",
    "        \"threestars\": 6,\n",
    "        \"twostars\": 4,\n",
    "        \"onestar\": 2,\n",
    "        \"zerostars\": 1,\n",
    "        \"stars\": np.nan, \"star\": np.nan, \"capsule\": np.nan\n",
    "    }\n",
    "    if score in star_keywords:\n",
    "        return star_keywords[score]\n",
    "\n",
    "    # --- Sentiment-based values ---\n",
    "    sentiment_map = {\n",
    "        \"recommended\": 7,\n",
    "        \"highlyrecommended\": 9,\n",
    "        \"notrecommended\": 3,\n",
    "        \"stronglynotrecommended\": 1,\n",
    "        \"bomb\": 1,\n",
    "        \"awful\": 1,\n",
    "        \"void\": 1,\n",
    "        \"ripples\": 6,\n",
    "        \"catchitoncable\": 5,\n",
    "        \"matinee\": 7,\n",
    "        \"bigscreenwatch\": 7.5,\n",
    "        \"lowbigscreenwatch\": 4,\n",
    "        \"highrental\": 6,\n",
    "        \"rental\": 5,\n",
    "        \"mixed\": 5,\n",
    "        \"readabook\": 2,\n",
    "        \"turkey\": 2\n",
    "    }\n",
    "    if score in sentiment_map:\n",
    "        return sentiment_map[score]\n",
    "\n",
    "    # --- Percentages ---\n",
    "    if score.endswith('%'):\n",
    "        try:\n",
    "            return float(score.replace('%', '')) / 10\n",
    "        except:\n",
    "            return np.nan\n",
    "        \n",
    "    # --- Half-star ratings (e.g., \"2 1/2 stars\", \"4 1/2 stars\") ---\n",
    "    half_star_pattern = r'(\\d+)\\s*1/2\\s*stars?'\n",
    "    half_star_match = re.search(half_star_pattern, score)\n",
    "    if half_star_match:\n",
    "        stars = float(half_star_match.group(1))\n",
    "        return round((stars + 0.5) * 2, 1)  # Convert to 10-point scale\n",
    "\n",
    "\n",
    "    # --- Fractional forms (like 3/5, 4of5, 7.5/10 etc.) ---\n",
    "    match = re.search(r'(\\d+(\\.\\d+)?)[^0-9]+(\\d+)', score)\n",
    "    if match:\n",
    "        try:\n",
    "            numerator = float(match.group(1))\n",
    "            denominator = float(match.group(3))\n",
    "            if denominator != 0:\n",
    "                return round((numerator / denominator) * 10, 1)\n",
    "        except:\n",
    "            return np.nan\n",
    "\n",
    "    # --- Numbers out of 5 (like 2 → 4 out of 10) ---\n",
    "    if re.fullmatch(r'\\d(\\.\\d+)?', score):\n",
    "        val = float(score)\n",
    "        if val <= 5:\n",
    "            return round(val * 2, 1)\n",
    "        elif val <= 10:\n",
    "            return val\n",
    "        else:\n",
    "            return np.nan\n",
    "\n",
    "    return np.nan"
   ]
  },
  {
   "cell_type": "code",
   "execution_count": 82,
   "id": "9e8c405a",
   "metadata": {},
   "outputs": [],
   "source": [
    "review['score'] = review['originalScore'].apply(normalize_original_score)"
   ]
  },
  {
   "cell_type": "markdown",
   "id": "4589f8bb",
   "metadata": {},
   "source": [
    "- converting the scoresentiment and isTopCritic to binary values "
   ]
  },
  {
   "cell_type": "code",
   "execution_count": 92,
   "id": "dfcca3bf",
   "metadata": {},
   "outputs": [],
   "source": [
    "review['scoreSentiment'] = review['scoreSentiment'].map({'POSITIVE': 1, 'NEGATIVE': 0})\n",
    "review['isTopCritic'] = review['isTopCritic'].astype(int)"
   ]
  },
  {
   "cell_type": "code",
   "execution_count": 93,
   "id": "1175e5e7",
   "metadata": {},
   "outputs": [],
   "source": [
    "review.rename(columns={'scoreSentiment': 'sentiment'}, inplace=True)\n",
    "review.rename(columns={'isTopCritic': 'TopCritic'}, inplace=True)"
   ]
  },
  {
   "cell_type": "code",
   "execution_count": 122,
   "id": "e7cd05c4",
   "metadata": {},
   "outputs": [],
   "source": [
    "review.dropna(subset=['score'], inplace=True)\n"
   ]
  },
  {
   "cell_type": "markdown",
   "id": "7e6ee220",
   "metadata": {},
   "source": [
    "> Removing the columns after cleaning the dataset"
   ]
  },
  {
   "cell_type": "code",
   "execution_count": 95,
   "id": "9b56e939",
   "metadata": {},
   "outputs": [],
   "source": [
    "drp = ['creationDate','originalScore','reviewText','criticName','reviewState','publicatioName','reviewUrl']\n",
    "review = review.drop(columns=drp)"
   ]
  },
  {
   "cell_type": "code",
   "execution_count": 96,
   "id": "6a9f5b29",
   "metadata": {},
   "outputs": [
    {
     "data": {
      "text/plain": [
       "Index(['title', 'reviewId', 'TopCritic', 'sentiment', 'cleaned_text', 'score'], dtype='object')"
      ]
     },
     "execution_count": 96,
     "metadata": {},
     "output_type": "execute_result"
    }
   ],
   "source": [
    "review.columns"
   ]
  },
  {
   "cell_type": "markdown",
   "id": "a7030eba",
   "metadata": {},
   "source": [
    "### merging the title with multiple reviewId\n",
    "\n",
    "> Why?\n",
    "- Multiple reviews for movie by  critic and publication "
   ]
  },
  {
   "cell_type": "code",
   "execution_count": 102,
   "id": "9edad72e",
   "metadata": {},
   "outputs": [],
   "source": [
    "grouped_reviews = review.groupby('title').agg({\n",
    "    'reviewId': lambda x: list(x.unique()),\n",
    "    'TopCritic':  lambda x: x.mode()[0] if len(x.mode()) == 1 else 1,\n",
    "    'sentiment': lambda x: x.mode()[0] if len(x.mode()) == 1 else 1,\n",
    "    'cleaned_text': lambda x: ' '.join(x),\n",
    "    'score': 'median'\n",
    "}).reset_index()"
   ]
  },
  {
   "cell_type": "code",
   "execution_count": null,
   "id": "9aa1a1ff",
   "metadata": {},
   "outputs": [],
   "source": [
    "col = ['reviewId']\n",
    "grouped_reviews= grouped_reviews.drop(columns=col)\n"
   ]
  },
  {
   "cell_type": "code",
   "execution_count": 136,
   "id": "85064d88",
   "metadata": {},
   "outputs": [],
   "source": [
    "grouped_reviews.to_csv('Data\\grouped_reviews.csv', index=True)"
   ]
  },
  {
   "cell_type": "code",
   "execution_count": null,
   "id": "059cc669",
   "metadata": {},
   "outputs": [],
   "source": [
    "grouped_reviews= grouped_reviews[~grouped_reviews['cleaned_text'].str.contains('nan', na=False)]\n",
    "grouped_reviews= grouped_reviews[~grouped_reviews['cleaned_text'].str.contains('nan nan', na=False)]"
   ]
  },
  {
   "cell_type": "code",
   "execution_count": 152,
   "id": "2d27e0ac",
   "metadata": {},
   "outputs": [
    {
     "data": {
      "text/html": [
       "<div>\n",
       "<style scoped>\n",
       "    .dataframe tbody tr th:only-of-type {\n",
       "        vertical-align: middle;\n",
       "    }\n",
       "\n",
       "    .dataframe tbody tr th {\n",
       "        vertical-align: top;\n",
       "    }\n",
       "\n",
       "    .dataframe thead th {\n",
       "        text-align: right;\n",
       "    }\n",
       "</style>\n",
       "<table border=\"1\" class=\"dataframe\">\n",
       "  <thead>\n",
       "    <tr style=\"text-align: right;\">\n",
       "      <th></th>\n",
       "      <th>title</th>\n",
       "      <th>TopCritic</th>\n",
       "      <th>sentiment</th>\n",
       "      <th>cleaned_text</th>\n",
       "      <th>score</th>\n",
       "    </tr>\n",
       "  </thead>\n",
       "  <tbody>\n",
       "    <tr>\n",
       "      <th>0</th>\n",
       "      <td>$5_a_day</td>\n",
       "      <td>0</td>\n",
       "      <td>1</td>\n",
       "      <td>day isnt perfect examine issues connecting par...</td>\n",
       "      <td>5.85</td>\n",
       "    </tr>\n",
       "    <tr>\n",
       "      <th>2</th>\n",
       "      <td>mhz</td>\n",
       "      <td>0</td>\n",
       "      <td>1</td>\n",
       "      <td>stylishly minimalist plot executed beautifully...</td>\n",
       "      <td>5.00</td>\n",
       "    </tr>\n",
       "    <tr>\n",
       "      <th>5</th>\n",
       "      <td></td>\n",
       "      <td>0</td>\n",
       "      <td>1</td>\n",
       "      <td>certainly tigers film filled heart</td>\n",
       "      <td>6.20</td>\n",
       "    </tr>\n",
       "    <tr>\n",
       "      <th>6</th>\n",
       "      <td>day</td>\n",
       "      <td>1</td>\n",
       "      <td>1</td>\n",
       "      <td>doesnt quite manage either gritty musical conv...</td>\n",
       "      <td>5.00</td>\n",
       "    </tr>\n",
       "    <tr>\n",
       "      <th>8</th>\n",
       "      <td>violent-women</td>\n",
       "      <td>0</td>\n",
       "      <td>0</td>\n",
       "      <td>incredibly bad sexploitation flick</td>\n",
       "      <td>4.00</td>\n",
       "    </tr>\n",
       "  </tbody>\n",
       "</table>\n",
       "</div>"
      ],
      "text/plain": [
       "           title  TopCritic  sentiment  \\\n",
       "0       $5_a_day          0          1   \n",
       "2            mhz          0          1   \n",
       "5                         0          1   \n",
       "6            day          1          1   \n",
       "8  violent-women          0          0   \n",
       "\n",
       "                                        cleaned_text  score  \n",
       "0  day isnt perfect examine issues connecting par...   5.85  \n",
       "2  stylishly minimalist plot executed beautifully...   5.00  \n",
       "5                 certainly tigers film filled heart   6.20  \n",
       "6  doesnt quite manage either gritty musical conv...   5.00  \n",
       "8                 incredibly bad sexploitation flick   4.00  "
      ]
     },
     "execution_count": 152,
     "metadata": {},
     "output_type": "execute_result"
    }
   ],
   "source": [
    "grouped_reviews.head()"
   ]
  },
  {
   "cell_type": "markdown",
   "id": "3dcdefca",
   "metadata": {},
   "source": [
    "### Removing space, digits from title"
   ]
  },
  {
   "cell_type": "code",
   "execution_count": 138,
   "id": "5784795a",
   "metadata": {},
   "outputs": [],
   "source": [
    "import re\n",
    "\n",
    "def clean_movie_id(title):\n",
    "    return re.sub(r'^\\d+[-_]', '', title)\n",
    "\n",
    "grouped_reviews['title'] = grouped_reviews['title'].apply(clean_movie_id)\n",
    "\n",
    "def remove_trailing_digits(title):\n",
    "    # Removes underscore + digits or just digits at the end\n",
    "    return re.sub(r'[_]?\\d+$', '', title)\n",
    "\n",
    "grouped_reviews['title'] = grouped_reviews['title'].apply(remove_trailing_digits)\n",
    "\n",
    "def remove_trailing_year(title):\n",
    "    return re.sub(r'_(19|20)\\d{2}$', '', title)\n",
    "\n",
    "grouped_reviews['title'] = grouped_reviews['title'].apply(remove_trailing_year)"
   ]
  },
  {
   "cell_type": "code",
   "execution_count": 159,
   "id": "46a00396",
   "metadata": {},
   "outputs": [],
   "source": [
    "grouped_reviews = grouped_reviews.rename(columns={'title': 'id'})\n"
   ]
  },
  {
   "cell_type": "markdown",
   "id": "39cea829",
   "metadata": {},
   "source": [
    "# ***cleaning movie dataset**"
   ]
  },
  {
   "cell_type": "code",
   "execution_count": 36,
   "id": "124e9e50",
   "metadata": {},
   "outputs": [
    {
     "data": {
      "text/html": [
       "<div>\n",
       "<style scoped>\n",
       "    .dataframe tbody tr th:only-of-type {\n",
       "        vertical-align: middle;\n",
       "    }\n",
       "\n",
       "    .dataframe tbody tr th {\n",
       "        vertical-align: top;\n",
       "    }\n",
       "\n",
       "    .dataframe thead th {\n",
       "        text-align: right;\n",
       "    }\n",
       "</style>\n",
       "<table border=\"1\" class=\"dataframe\">\n",
       "  <thead>\n",
       "    <tr style=\"text-align: right;\">\n",
       "      <th></th>\n",
       "      <th>id</th>\n",
       "      <th>title</th>\n",
       "      <th>audienceScore</th>\n",
       "      <th>releaseDateStreaming</th>\n",
       "      <th>runtimeMinutes</th>\n",
       "      <th>genre</th>\n",
       "      <th>originalLanguage</th>\n",
       "      <th>director</th>\n",
       "      <th>writer</th>\n",
       "    </tr>\n",
       "  </thead>\n",
       "  <tbody>\n",
       "    <tr>\n",
       "      <th>0</th>\n",
       "      <td>space-zombie-bingo</td>\n",
       "      <td>Space Zombie Bingo!</td>\n",
       "      <td>50.0</td>\n",
       "      <td>2018-08-25</td>\n",
       "      <td>75.0</td>\n",
       "      <td>Comedy, Horror, Sci-fi</td>\n",
       "      <td>English</td>\n",
       "      <td>George Ormrod</td>\n",
       "      <td>George Ormrod,John Sabotta</td>\n",
       "    </tr>\n",
       "    <tr>\n",
       "      <th>1</th>\n",
       "      <td>the_green_grass</td>\n",
       "      <td>The Green Grass</td>\n",
       "      <td>NaN</td>\n",
       "      <td>2020-02-11</td>\n",
       "      <td>114.0</td>\n",
       "      <td>Drama</td>\n",
       "      <td>English</td>\n",
       "      <td>Tiffany Edwards</td>\n",
       "      <td>Tiffany Edwards</td>\n",
       "    </tr>\n",
       "    <tr>\n",
       "      <th>2</th>\n",
       "      <td>love_lies</td>\n",
       "      <td>Love, Lies</td>\n",
       "      <td>43.0</td>\n",
       "      <td>NaN</td>\n",
       "      <td>120.0</td>\n",
       "      <td>Drama</td>\n",
       "      <td>Korean</td>\n",
       "      <td>Park Heung-Sik,Heung-Sik Park</td>\n",
       "      <td>Ha Young-Joon,Jeon Yun-su,Song Hye-jin</td>\n",
       "    </tr>\n",
       "    <tr>\n",
       "      <th>3</th>\n",
       "      <td>the_sore_losers_1997</td>\n",
       "      <td>Sore Losers</td>\n",
       "      <td>60.0</td>\n",
       "      <td>2020-10-23</td>\n",
       "      <td>90.0</td>\n",
       "      <td>Action, Mystery &amp; thriller</td>\n",
       "      <td>English</td>\n",
       "      <td>John Michael McCarthy</td>\n",
       "      <td>John Michael McCarthy</td>\n",
       "    </tr>\n",
       "    <tr>\n",
       "      <th>4</th>\n",
       "      <td>dinosaur_island_2002</td>\n",
       "      <td>Dinosaur Island</td>\n",
       "      <td>70.0</td>\n",
       "      <td>2017-03-27</td>\n",
       "      <td>80.0</td>\n",
       "      <td>Fantasy, Adventure, Animation</td>\n",
       "      <td>English</td>\n",
       "      <td>Will Meugniot</td>\n",
       "      <td>John Loy</td>\n",
       "    </tr>\n",
       "  </tbody>\n",
       "</table>\n",
       "</div>"
      ],
      "text/plain": [
       "                     id                title  audienceScore  \\\n",
       "0    space-zombie-bingo  Space Zombie Bingo!           50.0   \n",
       "1       the_green_grass      The Green Grass            NaN   \n",
       "2             love_lies           Love, Lies           43.0   \n",
       "3  the_sore_losers_1997          Sore Losers           60.0   \n",
       "4  dinosaur_island_2002      Dinosaur Island           70.0   \n",
       "\n",
       "  releaseDateStreaming  runtimeMinutes                          genre  \\\n",
       "0           2018-08-25            75.0         Comedy, Horror, Sci-fi   \n",
       "1           2020-02-11           114.0                          Drama   \n",
       "2                  NaN           120.0                          Drama   \n",
       "3           2020-10-23            90.0     Action, Mystery & thriller   \n",
       "4           2017-03-27            80.0  Fantasy, Adventure, Animation   \n",
       "\n",
       "  originalLanguage                       director  \\\n",
       "0          English                  George Ormrod   \n",
       "1          English                Tiffany Edwards   \n",
       "2           Korean  Park Heung-Sik,Heung-Sik Park   \n",
       "3          English          John Michael McCarthy   \n",
       "4          English                  Will Meugniot   \n",
       "\n",
       "                                   writer  \n",
       "0              George Ormrod,John Sabotta  \n",
       "1                         Tiffany Edwards  \n",
       "2  Ha Young-Joon,Jeon Yun-su,Song Hye-jin  \n",
       "3                   John Michael McCarthy  \n",
       "4                                John Loy  "
      ]
     },
     "execution_count": 36,
     "metadata": {},
     "output_type": "execute_result"
    }
   ],
   "source": [
    "movie.head(5)"
   ]
  },
  {
   "cell_type": "code",
   "execution_count": 71,
   "id": "b84dbbc3",
   "metadata": {},
   "outputs": [],
   "source": [
    "movie = pd.read_csv('Data\\movie.csv')"
   ]
  },
  {
   "cell_type": "code",
   "execution_count": 81,
   "id": "566a406c",
   "metadata": {},
   "outputs": [
    {
     "data": {
      "text/plain": [
       "(126403, 7)"
      ]
     },
     "execution_count": 81,
     "metadata": {},
     "output_type": "execute_result"
    }
   ],
   "source": [
    "movie.shape"
   ]
  },
  {
   "cell_type": "code",
   "execution_count": 78,
   "id": "7964e4dd",
   "metadata": {},
   "outputs": [
    {
     "data": {
      "text/plain": [
       "Index(['id', 'title', 'audienceScore', 'genre', 'originalLanguage', 'director',\n",
       "       'writer'],\n",
       "      dtype='object')"
      ]
     },
     "execution_count": 78,
     "metadata": {},
     "output_type": "execute_result"
    }
   ],
   "source": [
    "movie.columns"
   ]
  },
  {
   "cell_type": "markdown",
   "id": "03d4764a",
   "metadata": {},
   "source": [
    "### Dropping duplicate values "
   ]
  },
  {
   "cell_type": "code",
   "execution_count": 79,
   "id": "bf4a7c31",
   "metadata": {},
   "outputs": [],
   "source": [
    "movie.drop_duplicates(subset=['id'], keep='first', inplace=True)\n",
    "movie.drop_duplicates(subset=['title'], keep='first', inplace=True)"
   ]
  },
  {
   "cell_type": "markdown",
   "id": "0540340d",
   "metadata": {},
   "source": [
    "### removing null values and columns having missing value > 75%"
   ]
  },
  {
   "cell_type": "code",
   "execution_count": 74,
   "id": "9874b181",
   "metadata": {},
   "outputs": [],
   "source": [
    "movie.dropna(subset=['title'], inplace=True)\n",
    "drop_movie_col= ['releaseDateStreaming','runtimeMinutes','tomatoMeter','rating','ratingContents',\n",
    "                 'releaseDateTheaters','boxOffice','distributor', 'soundMix']\n",
    "movie = movie.drop(columns=drop_movie_col)"
   ]
  },
  {
   "cell_type": "markdown",
   "id": "51904f1f",
   "metadata": {},
   "source": [
    "### Imputing unknown to null values of features"
   ]
  },
  {
   "cell_type": "code",
   "execution_count": null,
   "id": "17f31062",
   "metadata": {},
   "outputs": [],
   "source": [
    "movie['director'].fillna(\"unknown\", inplace=True)\n",
    "movie['writer'].fillna(\"unknown\", inplace=True)\n",
    "movie['originalLanguage'].fillna(\"unknown\", inplace=True)\n",
    "movie['genre'].fillna(\"unknown\", inplace=True)"
   ]
  },
  {
   "cell_type": "code",
   "execution_count": 100,
   "id": "cb7ac377",
   "metadata": {},
   "outputs": [],
   "source": [
    "movie.to_csv('cleaned_movie.csv')"
   ]
  },
  {
   "cell_type": "markdown",
   "id": "45308e79",
   "metadata": {},
   "source": [
    "### Converting feature to list"
   ]
  },
  {
   "cell_type": "code",
   "execution_count": 88,
   "id": "48304e1b",
   "metadata": {},
   "outputs": [],
   "source": [
    "import re\n",
    "# 1. Turn each genre string into a clean Python list\n",
    "def split(s):\n",
    "    if pd.isna(s):\n",
    "        return []   # or ['Unknown'] if you prefer\n",
    "    # Split on comma or ampersand (&), using regex\n",
    "    parts = re.split(r',|&', s)\n",
    "    # Strip whitespace and drop any empty strings\n",
    "    return [p.strip() for p in parts if p.strip()]\n",
    "\n",
    "movie['genre_list'] = movie['genre'].apply(split)\n",
    "movie['director_list'] = movie['director'].apply(split)\n",
    "movie['writer_list'] = movie['writer'].apply(split) \n",
    "movie['language']= movie['originalLanguage'].apply(split)"
   ]
  },
  {
   "cell_type": "code",
   "execution_count": 153,
   "id": "8093952b",
   "metadata": {},
   "outputs": [],
   "source": [
    "movie = pd.read_csv('cleaned_movie.csv')"
   ]
  },
  {
   "cell_type": "markdown",
   "id": "32659f74",
   "metadata": {},
   "source": [
    "> Kept the columns in list"
   ]
  },
  {
   "cell_type": "code",
   "execution_count": null,
   "id": "96b5f4e6",
   "metadata": {},
   "outputs": [],
   "source": [
    "\n",
    "drop_col = ['Unnamed: 0', 'genre','originalLanguage', 'director', 'writer','known_score', 'unknown_score']\n",
    "movie.drop(columns=drop_col, inplace=True)"
   ]
  },
  {
   "cell_type": "markdown",
   "id": "36b58e6d",
   "metadata": {},
   "source": [
    "#### **Merge both movie and review with id**"
   ]
  },
  {
   "cell_type": "code",
   "execution_count": 160,
   "id": "17888178",
   "metadata": {},
   "outputs": [],
   "source": [
    "merged_df = pd.merge(movie, grouped_reviews, on='id', how='inner')"
   ]
  },
  {
   "cell_type": "code",
   "execution_count": 165,
   "id": "7a656e86",
   "metadata": {},
   "outputs": [],
   "source": [
    "merged_df.to_csv('data\\merged_movie_reviews.csv', index=True)"
   ]
  },
  {
   "cell_type": "code",
   "execution_count": 166,
   "id": "0f8bc915",
   "metadata": {},
   "outputs": [],
   "source": [
    "merged_df = merged_df.drop(columns=['id'])"
   ]
  },
  {
   "cell_type": "code",
   "execution_count": 191,
   "id": "caa4abf5",
   "metadata": {},
   "outputs": [],
   "source": [
    "median = merged_df['audienceScore'].median()\n",
    "mean = merged_df['audienceScore'].mean()\n"
   ]
  },
  {
   "cell_type": "markdown",
   "id": "66e714d5",
   "metadata": {},
   "source": [
    "### Distribution of the features in the dataset\n",
    "\n",
    "> Visualizing the numeric values"
   ]
  },
  {
   "cell_type": "code",
   "execution_count": 194,
   "id": "d8db7def",
   "metadata": {},
   "outputs": [
    {
     "data": {
      "image/png": "[encoded data removed]",
      "text/plain": [
       "<Figure size 1000x500 with 2 Axes>"
      ]
     },
     "metadata": {},
     "output_type": "display_data"
    }
   ],
   "source": [
    "import matplotlib.pyplot as plt\n",
    "import seaborn as sns\n",
    "\n",
    "plt.figure(figsize=(10, 5))\n",
    "\n",
    "plt.subplot(1, 2, 1)\n",
    "sns.histplot(merged_df['score'].dropna(), bins=np.arange(0, 11, 1), kde=True)\n",
    "plt.xlim(0, 10)\n",
    "plt.title('Distribution of score')\n",
    "plt.xlabel('score')\n",
    "plt.ylabel('Count')\n",
    "\n",
    "plt.subplot(1, 2, 2)\n",
    "sns.histplot(merged_df['audienceScore'].dropna(), bins=10, kde=True)\n",
    "plt.title('Distribution of audienceScore')\n",
    "\n",
    "plt.tight_layout()\n",
    "plt.show()"
   ]
  },
  {
   "cell_type": "markdown",
   "id": "42166c80",
   "metadata": {},
   "source": [
    "> Top 10 genre in the across the movie"
   ]
  },
  {
   "cell_type": "code",
   "execution_count": 183,
   "id": "f24a6123",
   "metadata": {},
   "outputs": [
    {
     "data": {
      "image/png": "[encoded data removed]",
      "text/plain": [
       "<Figure size 1200x600 with 1 Axes>"
      ]
     },
     "metadata": {},
     "output_type": "display_data"
    }
   ],
   "source": [
    "import matplotlib.pyplot as plt\n",
    "\n",
    "# Count full genre list combinations as strings\n",
    "genre_counts = merged_df['genre_list'].dropna().astype(str).value_counts(normalize=True) * 100\n",
    "\n",
    "# Get top 10\n",
    "top_10 = genre_counts.head(10)\n",
    "\n",
    "# Plot\n",
    "plt.figure(figsize=(12, 6))\n",
    "bars = plt.bar(top_10.index, top_10.values, color='skyblue', edgecolor='black')\n",
    "\n",
    "# Formatting\n",
    "plt.xticks(rotation=45, ha='right')\n",
    "plt.ylabel('Percentage of Movies (%)')\n",
    "plt.xlabel('Genre')\n",
    "plt.title('Top 10 Most Common Genre in Movies')\n",
    "plt.tight_layout()\n",
    "plt.grid(axis='y', linestyle='--', alpha=0.6)\n",
    "\n",
    "# Show percentage on top of bars (optional)\n",
    "for bar in bars:\n",
    "    height = bar.get_height()\n",
    "    plt.text(bar.get_x() + bar.get_width()/2, height + 0.3, f'{height:.1f}%', ha='center', va='bottom', fontsize=9)\n",
    "\n",
    "plt.show()\n"
   ]
  },
  {
   "cell_type": "markdown",
   "id": "2ba4141d",
   "metadata": {},
   "source": [
    "> **Merged dataset has 16% of movie of genre Drama followed by documentary with 13%\n",
    "\n",
    "- treated null values as unknown"
   ]
  },
  {
   "cell_type": "code",
   "execution_count": 168,
   "id": "63386ea8",
   "metadata": {},
   "outputs": [
    {
     "data": {
      "text/plain": [
       "np.int64(2961)"
      ]
     },
     "execution_count": 168,
     "metadata": {},
     "output_type": "execute_result"
    }
   ],
   "source": [
    "\n",
    "merged_df['genre_list'].str.contains('unknown').sum()"
   ]
  },
  {
   "cell_type": "code",
   "execution_count": 185,
   "id": "da5185c4",
   "metadata": {},
   "outputs": [
    {
     "data": {
      "text/plain": [
       "np.float64(57.342096668843894)"
      ]
     },
     "execution_count": 185,
     "metadata": {},
     "output_type": "execute_result"
    }
   ],
   "source": [
    "merged_df['audienceScore'].mean()"
   ]
  },
  {
   "cell_type": "code",
   "execution_count": null,
   "id": "e08cea07",
   "metadata": {},
   "outputs": [],
   "source": [
    "merged_df.rename(columns={'score': 'critic_score'}, inplace=True)\n",
    "merged_df.rename(columns={'New_audienceScore': 'audience_score'}, inplace=True)"
   ]
  },
  {
   "cell_type": "code",
   "execution_count": 232,
   "id": "93d42005",
   "metadata": {},
   "outputs": [
    {
     "data": {
      "text/plain": [
       "title             0\n",
       "genre_list        0\n",
       "director_list     0\n",
       "writer_list       0\n",
       "language          0\n",
       "TopCritic         0\n",
       "sentiment         0\n",
       "cleaned_text      0\n",
       "critic_score      0\n",
       "audience_score    0\n",
       "dtype: int64"
      ]
     },
     "execution_count": 232,
     "metadata": {},
     "output_type": "execute_result"
    }
   ],
   "source": [
    "merged_df = merged_df.drop(columns=['audienceScore'])\n",
    "merged_df.isna().sum()"
   ]
  },
  {
   "cell_type": "code",
   "execution_count": 244,
   "id": "9807f06d",
   "metadata": {},
   "outputs": [
    {
     "data": {
      "text/plain": [
       "Index(['title', 'genre_list', 'director_list', 'writer_list', 'language',\n",
       "       'TopCritic', 'sentiment', 'cleaned_text', 'critic_score',\n",
       "       'audience_score'],\n",
       "      dtype='object')"
      ]
     },
     "execution_count": 244,
     "metadata": {},
     "output_type": "execute_result"
    }
   ],
   "source": [
    "merged_df.columns"
   ]
  },
  {
   "cell_type": "code",
   "execution_count": 3,
   "id": "62881394",
   "metadata": {},
   "outputs": [
    {
     "ename": "NameError",
     "evalue": "name 'merged_df' is not defined",
     "output_type": "error",
     "traceback": [
      "\u001b[31m---------------------------------------------------------------------------\u001b[39m",
      "\u001b[31mNameError\u001b[39m                                 Traceback (most recent call last)",
      "\u001b[36mCell\u001b[39m\u001b[36m \u001b[39m\u001b[32mIn[3]\u001b[39m\u001b[32m, line 1\u001b[39m\n\u001b[32m----> \u001b[39m\u001b[32m1\u001b[39m \u001b[43mmerged_df\u001b[49m.to_csv(\u001b[33m'\u001b[39m\u001b[33mdata\u001b[39m\u001b[33m\\\u001b[39m\u001b[33mFinal.csv\u001b[39m\u001b[33m'\u001b[39m, index=\u001b[38;5;28;01mTrue\u001b[39;00m)\n",
      "\u001b[31mNameError\u001b[39m: name 'merged_df' is not defined"
     ]
    }
   ],
   "source": [
    "merged_df.to_csv('data\\Final.csv', index=True)"
   ]
  },
  {
   "cell_type": "code",
   "execution_count": 4,
   "id": "a3ae336b",
   "metadata": {},
   "outputs": [],
   "source": [
    "merged_df = pd.read_csv('data\\Final.csv')"
   ]
  },
  {
   "cell_type": "code",
   "execution_count": null,
   "id": "47870459",
   "metadata": {},
   "outputs": [],
   "source": []
  },
  {
   "cell_type": "markdown",
   "id": "5051bfd0",
   "metadata": {},
   "source": [
    "> weighted combined features"
   ]
  },
  {
   "cell_type": "code",
   "execution_count": 284,
   "id": "1e9a39b1",
   "metadata": {},
   "outputs": [
    {
     "name": "stdout",
     "output_type": "stream",
     "text": [
      "Shape of TF-IDF matrix: (27679, 5000)\n"
     ]
    }
   ],
   "source": [
    "from sklearn.feature_extraction.text import TfidfVectorizer\n",
    "\n",
    "tfidf_vectorizer = TfidfVectorizer(stop_words='english', ngram_range=(1,2), max_features=5000) # Tune parameters\n",
    "tfidf_matrix = tfidf_vectorizer.fit_transform(merged_df['combined_features_weighted'])\n",
    "\n",
    "print(f\"Shape of TF-IDF matrix: {tfidf_matrix.shape}\") # (n_movies, n_features)"
   ]
  },
  {
   "cell_type": "code",
   "execution_count": null,
   "id": "1869df3a",
   "metadata": {},
   "outputs": [
    {
     "name": "stdout",
     "output_type": "stream",
     "text": [
      "\n",
      "Sample of title-to-index mapping:\n",
      "title\n",
      "Love, Lies                  0\n",
      "The Garden Murder Case      1\n",
      "Angry Rice Wives            2\n",
      "iSteve                      3\n",
      "Tripping with Nils Frahm    4\n",
      "dtype: int64\n"
     ]
    }
   ],
   "source": [
    "# Create a mapping from movie title to DataFrame index\n",
    "indices = pd.Series(merged_df.index, index=merged_df['title']).drop_duplicates()\n",
    "\n",
    "print(\"\\nSample of title-to-index mapping:\")\n",
    "print(indices.head())"
   ]
  }
 ],
 "metadata": {
  "kernelspec": {
   "display_name": "venv",
   "language": "python",
   "name": "python3"
  },
  "language_info": {
   "codemirror_mode": {
    "name": "ipython",
    "version": 3
   },
   "file_extension": ".py",
   "mimetype": "text/x-python",
   "name": "python",
   "nbconvert_exporter": "python",
   "pygments_lexer": "ipython3",
   "version": "3.11.9"
  }
 },
 "nbformat": 4,
 "nbformat_minor": 5
}
